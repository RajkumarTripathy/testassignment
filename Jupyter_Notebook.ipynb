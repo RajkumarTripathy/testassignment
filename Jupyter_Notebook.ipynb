{
 "cells": [
  {
   "cell_type": "markdown",
   "metadata": {},
   "source": [
    "<center>\n",
    "    <img src=\"https://s3-api.us-geo.objectstorage.softlayer.net/cf-courses-data/CognitiveClass/Logos/organization_logo/organization_logo.png\" width=\"300\" alt=\"cognitiveclass.ai logo\"  />\n",
    "</center>\n"
   ]
  },
  {
   "cell_type": "markdown",
   "metadata": {},
   "source": [
    "#### Add your code below following the instructions given in the course\n"
   ]
  },
  {
   "cell_type": "markdown",
   "metadata": {},
   "source": [
    "# My Jupyter Notebook on IBM Watson Studio"
   ]
  },
  {
   "cell_type": "markdown",
   "metadata": {},
   "source": [
    "## RAJKUMAR TRIPATHY\n",
    "\n",
    "Supply Chain Data Scientist"
   ]
  },
  {
   "cell_type": "markdown",
   "metadata": {},
   "source": [
    "* I am interested in data science Data science is one of the broadest fields available for individuals with a mathematical or statistical background. There are plenty of open positions that require data science skills."
   ]
  },
  {
   "cell_type": "markdown",
   "metadata": {},
   "source": [
    "### The following code sets a numeric variable to 5, then multiplies 10 to the variable."
   ]
  },
  {
   "cell_type": "code",
   "execution_count": 1,
   "metadata": {},
   "outputs": [
    {
     "data": {
      "text/plain": [
       "50"
      ]
     },
     "execution_count": 1,
     "metadata": {},
     "output_type": "execute_result"
    }
   ],
   "source": [
    "a = 5\n",
    "a = a*10\n",
    "a"
   ]
  },
  {
   "cell_type": "markdown",
   "metadata": {},
   "source": [
    "<!DOCTYPE html>\n",
    "<html>\n",
    "<body>\n",
    "\n",
    "<h1>The ul element</h1>\n",
    "\n",
    "<ul>\n",
    "  <li>Coffee</li>\n",
    "  <li>Sugar</li>\n",
    "  <li>Milk</li>\n",
    "</ul>\n",
    "\n",
    "</body>\n",
    "</html>\n",
    "\n",
    "\n",
    "\n",
    "<img src=\"pic_trulli.jpg\" alt=\"Italian Trulli\">\n",
    "\n",
    "\n",
    "\n",
    "<!DOCTYPE html>\n",
    "<html>\n",
    "<style>\n",
    "table, th, td {\n",
    "  border:1px solid black;\n",
    "}\n",
    "</style>\n",
    "<body>\n",
    "\n",
    "<h2>TD elements define table cells</h2>\n",
    "\n",
    "<table style=\"width:100%\">\n",
    "  <tr>\n",
    "    <td>Emil</td>\n",
    "    <td>Tobias</td>\n",
    "    <td>Linus</td>\n",
    "  </tr>\n",
    "</table>\n",
    "\n",
    "<p>To undestand the example better, we have added borders to the table.</p>\n",
    "\n",
    "</body>\n",
    "</html>\n",
    "\n",
    "print (\"hi\")\n",
    "\n",
    "<table style=\"width:20%\">\n",
    "<tr>\n",
    "<th><Name></th>\n",
    "<th><Address></th>\n",
    "<th><Salary></th>\n",
    "</tr>\n",
    "\n",
    "<tr>\n",
    "<td><Hanna></td>\n",
    "<td><Brisbane></td>\n",
    "<td><4000></td>\n",
    "</tr>\n",
    "\n",
    "<tr>\n",
    "<td><Adam></td>\n",
    "<td><Sydney></td>\n",
    "<td><5000></td>\n",
    "</tr>\n",
    "</table>"
   ]
  },
  {
   "cell_type": "code",
   "execution_count": null,
   "metadata": {},
   "outputs": [],
   "source": []
  }
 ],
 "metadata": {
  "kernelspec": {
   "display_name": "Python",
   "language": "python",
   "name": "conda-env-python-py"
  },
  "language_info": {
   "codemirror_mode": {
    "name": "ipython",
    "version": 3
   },
   "file_extension": ".py",
   "mimetype": "text/x-python",
   "name": "python",
   "nbconvert_exporter": "python",
   "pygments_lexer": "ipython3",
   "version": "3.7.12"
  }
 },
 "nbformat": 4,
 "nbformat_minor": 4
}
